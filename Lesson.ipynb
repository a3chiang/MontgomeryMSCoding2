{
 "cells": [
  {
   "cell_type": "markdown",
   "id": "c191d217-2de3-49cd-805e-183eca1a870c",
   "metadata": {},
   "source": [
    "# <span style= \"color: #1D3388\"> What is Python?\n",
    "<font size = 3> Python is a programming language that has become extremely common and useful in industry and in academia research. Since the language is so high level (someone who is new to Python can quickly learn it and understand what a given code does), many people across different fields of work are able to quickly use it as a tool for data visualization, machine learning, web design, etc. Python tools are modular; code developers are able to write new packages that allow you to do many different things and as the user, all you need to do is install and import the packages you need. For example, if you want to do some data visualization (make graphs), you can just import matplotlib or seaborn, packages that include tools for you to visualize your data quickly.\n",
    "<img src=https://www.98thpercentile.com/hubfs/What%20is%20python%20used%20for.png style=\"width: 600px;\"/>  \n",
    "&nbsp;\n",
    "Computers are smart, but you are smarter! We need a way to tell computers to do what we want them to. "
   ]
  },
  {
   "cell_type": "markdown",
   "id": "47649243-7400-4ac7-bd45-73db26b4073f",
   "metadata": {},
   "source": [
    "## <font size = 6> <span style= \"color: #1D3388\">Variables\n",
    "<font size = 3> If you are working with any sort of data, your computer needs a way to store that information. We store this information in a _variable_, similar to how you would in math! We will cover 4 major variables today: int, float, boolean, and str. \n",
    "1. <span style= \"color: red\"> **int**: <span style= \"color: black\"> Holds any whole number. In other words, holds an (int)eger\n",
    "    - Examples: 3, 195, -4, -1358\n",
    "2. <span style= \"color: red\"> **float**: <span style= \"color: black\"> Holds any decimal. \n",
    "    - Examples: 3.14, 0.195, -4.976, -1358.0\n",
    "3. <span style= \"color: red\"> **boolean**: <span style= \"color: black\"> Holds either True or False. \n",
    "4. <span style= \"color: red\"> **string**: <span style= \"color: black\"> Holds words/single letters. They are represented with single or double quotes around the string \n",
    "    - Examples: \"Hello\", 'I love Python'\n",
    "    \n",
    "<font size = 3> Now that we inderstand what variables are, let's learn how to use variables to code! We will assign values to variables and plug them into expressions - this is called _variable assignment_.  \n",
    "There are 3 steps to assigning a value to a variable:  \n",
    "<font size = 3>\n",
    "1. The **name** of the variable  \n",
    "_you can call your variable anything you'd like, but try to be descriptive for good coding practice_\n",
    "    - Bad examples: x = 21, y = 'Varshini'\n",
    "    - Good examples: my_age = 21, my_name = 'Varshini'\n",
    "2. The **assignment operator** (an = sign)  \n",
    "3. The **value** you want to store  \n",
    "    \n",
    "<font size = 3> Check out these examples:"
   ]
  },
  {
   "cell_type": "code",
   "execution_count": 4,
   "id": "24dcd063",
   "metadata": {},
   "outputs": [],
   "source": [
    "pi = 3.14159265  #this is a float\n",
    "fav_food = \"pizza\" #this is a string\n",
    "i_like_pizza = True   #can you tell me what the variable type is?"
   ]
  },
  {
   "cell_type": "markdown",
   "id": "04088bfb",
   "metadata": {},
   "source": [
    "<font size = 3> However, not all variable names are valid. Your variable name **cannot** _begin_ with a number or match one of Python's keywords  \n",
    "<img src=python_keywords.png alt=\"Drawing\" style=\"width: 500px;\"/>  \n"
   ]
  },
  {
   "cell_type": "code",
   "execution_count": 6,
   "id": "7f3761a7",
   "metadata": {},
   "outputs": [],
   "source": [
    "# Try messing around with variables names in this cell. \n",
    "# Are there any other restrictions for a variable name?\n"
   ]
  },
  {
   "cell_type": "markdown",
   "id": "c99f57ba",
   "metadata": {},
   "source": [
    "<font size = 3> <span style= \"color: black\"> Let's now introduce a cool way to have our computer talk to us! To do this, we will use one of Python's built in functions: `print()`. `print()` allows the computer to display text to our screens. Here are some examples:  "
   ]
  },
  {
   "cell_type": "code",
   "execution_count": 4,
   "id": "30b0ff40",
   "metadata": {},
   "outputs": [
    {
     "name": "stdout",
     "output_type": "stream",
     "text": [
      "Hi! My name is Varshini\n",
      "10\n",
      "seven times seven is: 49\n"
     ]
    }
   ],
   "source": [
    "print(\"Hi! My name is Varshini\")\n",
    "print(7+3)\n",
    "print(\"seven times seven is:\", 7*7)"
   ]
  },
  {
   "cell_type": "markdown",
   "id": "4b79a584",
   "metadata": {},
   "source": [
    "### <span style=\"color:blue\"> Exercise: print \"Hello World\" to the console "
   ]
  },
  {
   "cell_type": "code",
   "execution_count": null,
   "id": "3f93371e",
   "metadata": {},
   "outputs": [],
   "source": [
    "#complete the exercise in this cell\n",
    "#Feel free to mess around with other things you can do with the print statement!\n"
   ]
  },
  {
   "cell_type": "markdown",
   "id": "3accf625-5bf5-463b-9c27-9fef3601a289",
   "metadata": {},
   "source": [
    "## <font size = 6> <span style= \"color: #1D3388\">Functions\n",
    "<font size = 3> Functions are a way to organize your code. They are \"called\" by another snippet of code. We have already seen an example of a function with the `print()` statement. This is one of Python's built in functions, so there is nothing else we need to do except use it like we have been. However, if we want to write our own function, there are 4 steps to declaring a function:  \n",
    "<font size = 2.5>\n",
    "1. The <span style= \"color: red\"> **keyword (def)** <span style= \"color: black\">: `def` tells the computer that you are going to write a function  \n",
    "2. The <span style= \"color: red\"> **function name** <span style= \"color: black\">: this is how another snippet of code accesses the function  \n",
    "3. The <span style= \"color: red\"> **parameter(s)** <span style= \"color: black\">: data you can pass to be used in the function  \n",
    "4. The <span style= \"color: red\"> **function code** <span style= \"color: black\">: this is the body of the function and contains the actual code/logic  \n",
    "    \n",
    "    \n",
    "<font size = 3> Here's a skeleton of a function:  "
   ]
  },
  {
   "cell_type": "code",
   "execution_count": 6,
   "id": "684fb481",
   "metadata": {},
   "outputs": [
    {
     "ename": "IndentationError",
     "evalue": "expected an indented block (2405537029.py, line 2)",
     "output_type": "error",
     "traceback": [
      "\u001b[0;36m  File \u001b[0;32m\"/var/folders/mv/n20rjvnd2g1cydjs0h8zgw640000gp/T/ipykernel_29028/2405537029.py\"\u001b[0;36m, line \u001b[0;32m2\u001b[0m\n\u001b[0;31m    #function body\u001b[0m\n\u001b[0m                  ^\u001b[0m\n\u001b[0;31mIndentationError\u001b[0m\u001b[0;31m:\u001b[0m expected an indented block\n"
     ]
    }
   ],
   "source": [
    "def function_name(parameter1, parameter2):\n",
    "    #function body"
   ]
  },
  {
   "cell_type": "markdown",
   "id": "57df4c43",
   "metadata": {},
   "source": [
    "<font size = 3> <span style= \"color: #3ECC2D\"> **:) Don't worry if this seems confusing!**  \n",
    "    &nbsp;  \n",
    "<font size = 3> <span style= \"color: black\"> Lets walk through a real example and see how we actually use a function. Take a look at this function that takes in your name as a parameter and outputs a greeting.  "
   ]
  },
  {
   "cell_type": "code",
   "execution_count": 3,
   "id": "dc537846",
   "metadata": {},
   "outputs": [],
   "source": [
    "def hello(name):\n",
    "    return(\"Hello \" + name + \"!\")"
   ]
  },
  {
   "cell_type": "markdown",
   "id": "ef075511",
   "metadata": {},
   "source": [
    "You might have noticed the `return` keyword at the end function. In practice, functions are used to return some value and in Python, all functions will have a return value.  \n",
    "You also might have noticed a `+` sign in the parenthesis in the return line. The `+` sign is called **concatenation** and is used when adding strings to strings. \n",
    "&nbsp;  \n",
    "\n",
    "Now how do we \"call\" the function? Calling a function is essentially a way to tell Python that we are going to use the function. To call a function, we simply need to type the name of the function, followed by our specific parameters, like so: "
   ]
  },
  {
   "cell_type": "code",
   "execution_count": 4,
   "id": "ecb71bc8",
   "metadata": {},
   "outputs": [
    {
     "data": {
      "text/plain": [
       "'Hello Alyssa!'"
      ]
     },
     "execution_count": 4,
     "metadata": {},
     "output_type": "execute_result"
    }
   ],
   "source": [
    "hello(\"Alyssa\")  #this is how we call the function"
   ]
  },
  {
   "cell_type": "markdown",
   "id": "78f60805",
   "metadata": {},
   "source": [
    "What do you think will happen when we call the hello() function like this:"
   ]
  },
  {
   "cell_type": "code",
   "execution_count": null,
   "id": "0b48bd70",
   "metadata": {},
   "outputs": [],
   "source": [
    "my_name = \"Alyssa\"\n",
    "hello(my_name)\n",
    "\n",
    "#What is different about how we called the function this way, as opposed to the previous way?"
   ]
  },
  {
   "cell_type": "markdown",
   "id": "ed724650",
   "metadata": {},
   "source": [
    "<font size = 3> _So why do we need to create functions?_  \n",
    "1. <span style= \"color: red\"> **Compartmentalization** <span style= \"color: black\">. If you are writing hundreds of lines of code, it can get hard to keep track of what you're doing.  \n",
    "2. <span style= \"color: red\"> **Code Reusability** <span style= \"color: black\">. If you have a function that's over 50 lines, this bundle of code can be used repeatedly without you having to rewrite it each time! It saves time and makes our code easier to read.   \n",
    "    \n",
    "### <span style=\"color:blue\"> Exercise: What are the outputs of the following function?"
   ]
  },
  {
   "cell_type": "code",
   "execution_count": 1,
   "id": "90533cca",
   "metadata": {},
   "outputs": [],
   "source": [
    "def times_2(my_num):   #what does this function do?\n",
    "    return my_num * 2\n"
   ]
  },
  {
   "cell_type": "code",
   "execution_count": 2,
   "id": "60cb6342",
   "metadata": {},
   "outputs": [
    {
     "name": "stdout",
     "output_type": "stream",
     "text": [
      "4\n",
      "20\n",
      "-8\n"
     ]
    }
   ],
   "source": [
    "print(times_2(2))\n",
    "print(times_2(10))\n",
    "print(times_2(-4))"
   ]
  },
  {
   "cell_type": "code",
   "execution_count": null,
   "id": "7cc1544c",
   "metadata": {},
   "outputs": [],
   "source": [
    "#Can you write a function thats adds 3 to any input?\n",
    "\n",
    "\n"
   ]
  },
  {
   "cell_type": "markdown",
   "id": "d10fb533-3b9b-423e-b39f-5ecf28c19709",
   "metadata": {},
   "source": [
    "## <font size = 6> <span style= \"color: #1D3388\">The Pandas Library  \n",
    "<font size = 3> Pandas is a popular **external library** in Python. External libraries are niche features written by third-party developers (so thank you to those super smart people!). These libraries provide a way for programmers to reuse existing code in their own programs to perform common operations.  \n",
    "**Pandas** is a powerful tool that is particularly useful for analyzing and manipulating raw data. Scientists use it to inspect their data, identify any abnormalities, visualize the data, etc.  \n",
    "To use Pandas you need to import the library using the following line:  \n",
    "             `import pandas as pd`"
   ]
  },
  {
   "cell_type": "markdown",
   "id": "fc0bc740",
   "metadata": {},
   "source": [
    "<font size = 3> The Pandas library works with an object called a dataframe. Think of a dataframe like an Excel spreadsheet -- a large table with labeled columns/rows. Pandas can read in data from a file and turn it into such a table to perform statistical and mathematical operations.  \n",
    "We need to tell Python to read in a file into a dataframe using the following command:  \n",
    "            `my_dataframe = pandas.read_filetype('my_file.ext')`"
   ]
  },
  {
   "cell_type": "markdown",
   "id": "cf88d9ea",
   "metadata": {},
   "source": [
    "<font size = 3> CSV (comma separated value) format is essentially bunch of values...separated by commas - it is a format that makes reading and uploading your data into Python very easy and straightforward. Putting it into a Pandas dataframe is a good way to start visualizing your data and making graphs. "
   ]
  },
  {
   "cell_type": "code",
   "execution_count": 2,
   "id": "8f25bbd7",
   "metadata": {},
   "outputs": [
    {
     "ename": "NameError",
     "evalue": "name 'pd' is not defined",
     "output_type": "error",
     "traceback": [
      "\u001b[0;31m---------------------------------------------------------------------------\u001b[0m",
      "\u001b[0;31mNameError\u001b[0m                                 Traceback (most recent call last)",
      "\u001b[0;32m/var/folders/mv/n20rjvnd2g1cydjs0h8zgw640000gp/T/ipykernel_34232/3276668389.py\u001b[0m in \u001b[0;36m<module>\u001b[0;34m\u001b[0m\n\u001b[1;32m      1\u001b[0m \u001b[0;31m# Example for uploading the dataset called \"IGdata.csv\"\u001b[0m\u001b[0;34m\u001b[0m\u001b[0;34m\u001b[0m\u001b[0;34m\u001b[0m\u001b[0m\n\u001b[0;32m----> 2\u001b[0;31m \u001b[0mIG_df\u001b[0m \u001b[0;34m=\u001b[0m \u001b[0mpd\u001b[0m\u001b[0;34m.\u001b[0m\u001b[0mread_csv\u001b[0m\u001b[0;34m(\u001b[0m\u001b[0;34m'IGdata.csv'\u001b[0m\u001b[0;34m)\u001b[0m\u001b[0;34m\u001b[0m\u001b[0;34m\u001b[0m\u001b[0m\n\u001b[0m\u001b[1;32m      3\u001b[0m \u001b[0mIG_df\u001b[0m\u001b[0;34m\u001b[0m\u001b[0;34m\u001b[0m\u001b[0m\n",
      "\u001b[0;31mNameError\u001b[0m: name 'pd' is not defined"
     ]
    }
   ],
   "source": [
    "# Example for uploading a csv file into a dataframe (df) called \"IGdata.csv\"\n",
    "IG_df = pd.read_csv('IGdata.csv')  \n",
    "IG_df"
   ]
  },
  {
   "cell_type": "markdown",
   "id": "463666a4",
   "metadata": {},
   "source": [
    "Dataframes are especially useful because we can easily access elements of the dataframe and calculate statistics. For example, lets say we want to access an individual user's data. We can do so with the loc() function:  \n",
    "            `IG_df.loc['User-1']`  \n",
    "This line will **loc**ate a row in the dataframe and spit out all the columns associated with that row.  \n",
    "What if we want to extract a column from the dataframe?  \n",
    "All we need to do is specifiy our dataframe and use square brackets `[]` with the name of the column inside these brackets:  \n",
    "            `IG_df['Number of Posts']`  \n",
    "<span style= \"color: #3ECC2D\"> Notice how we had to use quotes around the column name? Why do you think we had to do this?  \n",
    "    \n",
    "&nbsp;    \n",
    "    \n",
    "We can also calculate metric on each column/row. Say we want to find the average number of followers across all our users. We can use the `mean()` function. We can use the code when we extracted a column of the dataframe and simply add the `mean()` function after it, like this:  \n",
    "            `IG_df['Number of Followers'].mean()`\n",
    "    \n",
    "Other functions we can apply to a column are `min()`, `max()`, `std()`\n",
    "    \n",
    "    \n",
    "There are so many other things we can do with Pandas! Check out the Pandas library documentation here: https://pandas.pydata.org/docs/getting_started/intro_tutorials/03_subset_data.html"
   ]
  },
  {
   "cell_type": "markdown",
   "id": "65b1c69c",
   "metadata": {},
   "source": [
    "### <span style=\"color:blue\"> Exercise"
   ]
  },
  {
   "cell_type": "code",
   "execution_count": null,
   "id": "f358098c",
   "metadata": {},
   "outputs": [],
   "source": [
    "# Write the code for reading a dataset called \"avocadoprices.csv\" into a dataframe in this box. \n",
    "# Name your dataframe avo_df\n"
   ]
  },
  {
   "cell_type": "code",
   "execution_count": null,
   "id": "52c2bf46",
   "metadata": {},
   "outputs": [],
   "source": [
    "# Extract the 'Year' column and find the largest year\n",
    "\n"
   ]
  },
  {
   "cell_type": "code",
   "execution_count": null,
   "id": "f3734b9c-1485-41dd-8ca6-624c0cfb7c78",
   "metadata": {},
   "outputs": [],
   "source": [
    "import pandas as pd\n",
    "import matplotlib.pyplot as plt \n",
    "from matplotlib.ticker import FormatStrFormatter\n",
    "import seaborn as sns"
   ]
  },
  {
   "cell_type": "markdown",
   "id": "f61e05c6",
   "metadata": {},
   "source": [
    "## <font size = 6> <span style= \"color: #1D3388\">Histograms\n",
    "<font size = 3> What is a histogram? A histogram puts your data into bins and each bin contains the counts of your data that falls into that bin. For example, if you wanted to make a histogram of the \"Numbers of Followers\" from your IG dataset from above, you can separate the data into bins. The bins would be separated along an interval between the minimum number of followers and the maximum number of followers. If the minimum is 0 followers and the maximum is 500 followers, and you wanted to separate into 10 bins, your bins would be: \n",
    "1. 0-50 followers\n",
    "2. 51-100 followers\n",
    "3. 101-150 followers\n",
    "4. 151-200 followers\n",
    "5. 201-250 followers\n",
    "6. 251-300 followers\n",
    "7. 301-350 followers\n",
    "8. 351-400 followers\n",
    "9. 401-450 followers\n",
    "10. 451-500 followers\n",
    "\n",
    "When you make your histogram using Python, the code would go through the column \"Numbers of Followers\", and count the Users that fall into each bin (i.e. if 10 users have 0-50 followers, bin 1 would contain 10). Run the code on the example below - see if you can play with the number of bins. "
   ]
  },
  {
   "cell_type": "code",
   "execution_count": null,
   "id": "08657960",
   "metadata": {},
   "outputs": [],
   "source": [
    "# Create figure \n",
    "fig, ax = plt.subplots(figsize=(50,10))\n",
    "\n",
    "# Plot the histogram with 10 bins. \"counts, bins, patches\" just collects this data from the histogram that you are building.\n",
    "counts,bins,patches = ax.hist(IG_df['Number of Posts'],bins=10)\n",
    "\n",
    "# Give your plot a title and label x and y axes. \n",
    "ax.set_title('Numbers of IG followers',size=40)\n",
    "ax.set_xlabel('Number of followers',size=35,labelpad=12)\n",
    "ax.set_ylabel('Counts',size=35,labelpad=12)\n",
    "\n",
    "# Set the tick labels\n",
    "ax.set_xticks(bins)\n",
    "ax.set_xticklabels(bins, fontsize=30,rotation=90)\n",
    "# this line of code cuts the decimal points off at the the first decimal value\n",
    "ax.xaxis.set_major_formatter(FormatStrFormatter('%0.1f'))\n",
    "\n",
    "ax.set_yticklabels(ax.get_yticks(),fontsize=30)"
   ]
  },
  {
   "cell_type": "markdown",
   "id": "983e097d",
   "metadata": {},
   "source": [
    "### <span style=\"color:blue\"> Exercise "
   ]
  },
  {
   "cell_type": "code",
   "execution_count": null,
   "id": "df988d1f",
   "metadata": {},
   "outputs": [],
   "source": [
    "# Try doing this with 5 bins and with 15 bins. What do you notice about each? \n"
   ]
  },
  {
   "cell_type": "code",
   "execution_count": null,
   "id": "d6c05bc3",
   "metadata": {},
   "outputs": [],
   "source": [
    "# Plot a histogram for a different column in the same dataframe. \n"
   ]
  },
  {
   "cell_type": "markdown",
   "id": "89f7ab78",
   "metadata": {},
   "source": [
    "## <font size = 6> <span style= \"color: #1D3388\">Seaborn\n",
    "<font size = 3> Seaborn is a plotting tool that derives from Matplotlib (which we were using to make the histograms). Seaborn allows you to make many beautiful plots, check out their gallery here: https://seaborn.pydata.org/examples/index.html\n",
    "\n",
    "Let's try something similar to a histogram - a countplot (basically, your common bar graph). Use the code below to make a countplot of the number of users who identified as male or female. "
   ]
  },
  {
   "cell_type": "code",
   "execution_count": null,
   "id": "25c27820",
   "metadata": {},
   "outputs": [],
   "source": [
    "sns.countplot(x=IG_df[\" Gender\"])"
   ]
  },
  {
   "cell_type": "markdown",
   "id": "778a59e8",
   "metadata": {},
   "source": [
    "### New dataset"
   ]
  },
  {
   "cell_type": "markdown",
   "id": "ab482626",
   "metadata": {},
   "source": [
    "Now, let's explore the avocados dataset you loaded in an earlier example! If you had any trouble loading it, try this: \n",
    "\n",
    "            avos_df = pd.read_csv('avocadoprices.csv')  \n",
    "            avos_df\n",
    "\n",
    "Let's try playing with the data a little bit here. The code below lets you make a lineplot of the total volume of avocados produced in each year from 2015-2020 and colors "
   ]
  },
  {
   "cell_type": "code",
   "execution_count": null,
   "id": "94bb396a",
   "metadata": {},
   "outputs": [],
   "source": [
    "sns.lineplot(x=\"year\", y=\"total_volume\", hue=\"type\", data=avos_df) \n",
    "#What do you notice about the data? "
   ]
  },
  {
   "cell_type": "markdown",
   "id": "24870807",
   "metadata": {},
   "source": [
    "### <span style=\"color:blue\"> Exercise: Write code to plot a lineplot of the average price over the years 2015-2020. What do you notice?  "
   ]
  },
  {
   "cell_type": "code",
   "execution_count": null,
   "id": "81cc9c74",
   "metadata": {},
   "outputs": [],
   "source": [
    "#Write your code here:\n",
    "\n",
    "\n"
   ]
  },
  {
   "cell_type": "code",
   "execution_count": null,
   "id": "babbb7eb",
   "metadata": {},
   "outputs": [],
   "source": [
    "# Example for uploading the dataset called \"IGdata.csv\"\n",
    "avos_df = pd.read_csv('avocadoprices.csv')  \n",
    "avos_df"
   ]
  },
  {
   "cell_type": "markdown",
   "id": "6990773a",
   "metadata": {},
   "source": [
    "There's only so much we can do with so much data present in the dataframe all at once. Let's break it down a little bit using the groupby() function. First, let's break down by type (conventional vs. organic). "
   ]
  },
  {
   "cell_type": "code",
   "execution_count": null,
   "id": "4b32d80b",
   "metadata": {},
   "outputs": [],
   "source": [
    "# Run this line of code\n",
    "\n",
    "avos_df_type = avos_df.groupby('type')"
   ]
  },
  {
   "cell_type": "markdown",
   "id": "f396ca35",
   "metadata": {},
   "source": [
    "Now, let's make a new dataframe that focuses just on the conventional avocados. "
   ]
  },
  {
   "cell_type": "code",
   "execution_count": null,
   "id": "acb206b5",
   "metadata": {},
   "outputs": [],
   "source": [
    "type_df = avos_df_type.get_group('conventional')\n",
    "type_df"
   ]
  },
  {
   "cell_type": "code",
   "execution_count": null,
   "id": "6977db04",
   "metadata": {},
   "outputs": [],
   "source": [
    "# Write a line of code to group this new dataframe by geography \n"
   ]
  },
  {
   "cell_type": "markdown",
   "id": "940a596a",
   "metadata": {},
   "source": [
    "## <span style=\"color:purple\"> <font size =6> Challenges "
   ]
  },
  {
   "cell_type": "code",
   "execution_count": null,
   "id": "6eae6cb1",
   "metadata": {},
   "outputs": [],
   "source": [
    "# Make a lineplot of the average price by date for avocados located in Albany. (average price on y axis, date on x axis)\n",
    "# Do this again for Baltimore/Washington. What do you notice? \n"
   ]
  },
  {
   "cell_type": "markdown",
   "id": "675cf490",
   "metadata": {},
   "source": [
    "Using what you have learned, try making one more plot of your own choice:"
   ]
  },
  {
   "cell_type": "code",
   "execution_count": null,
   "id": "814c36b9",
   "metadata": {},
   "outputs": [],
   "source": [
    "#your own plot\n",
    "\n",
    "\n"
   ]
  },
  {
   "cell_type": "markdown",
   "id": "20e68085",
   "metadata": {},
   "source": [
    "Search some of the stylistic options on seaborn - there's a lot! You can change the colors on any of the plots you made or even add a grid in the background - try playing around with some of these style options in the graphs you've already made. \n"
   ]
  },
  {
   "cell_type": "markdown",
   "id": "314fbd25-720a-47ca-bd36-c5fee0163712",
   "metadata": {},
   "source": [
    "###### This lesson was inspired by Niema Moshiri's Stepik course \"Intro. to Comp. Sci. & OOP: Python\" "
   ]
  }
 ],
 "metadata": {
  "kernelspec": {
   "display_name": "Python 3 (ipykernel)",
   "language": "python",
   "name": "python3"
  },
  "language_info": {
   "codemirror_mode": {
    "name": "ipython",
    "version": 3
   },
   "file_extension": ".py",
   "mimetype": "text/x-python",
   "name": "python",
   "nbconvert_exporter": "python",
   "pygments_lexer": "ipython3",
   "version": "3.9.1"
  }
 },
 "nbformat": 4,
 "nbformat_minor": 5
}
